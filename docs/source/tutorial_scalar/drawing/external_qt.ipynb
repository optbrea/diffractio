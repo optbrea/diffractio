{
 "cells": [
  {
   "cell_type": "markdown",
   "metadata": {},
   "source": [
    "# Images external to jupyter: %matplotlib notebook"
   ]
  },
  {
   "cell_type": "code",
   "execution_count": null,
   "metadata": {
    "ExecuteTime": {
     "end_time": "2020-05-01T22:33:09.330686Z",
     "start_time": "2020-05-01T22:33:08.298894Z"
    }
   },
   "outputs": [],
   "source": [
    "from diffractio import degrees, um\n",
    "from diffractio import np, plt\n",
    "\n",
    "from diffractio.utils_multiprocessing import execute_multiprocessing\n",
    "\n",
    "from diffractio.scalar_masks_X import Scalar_mask_X\n",
    "from diffractio.scalar_sources_X import Scalar_source_X\n",
    "from diffractio.scalar_masks_XZ import Scalar_mask_XZ\n",
    "from diffractio import num_max_processors"
   ]
  },
  {
   "cell_type": "markdown",
   "metadata": {},
   "source": [
    "## image in an external window"
   ]
  },
  {
   "cell_type": "code",
   "execution_count": null,
   "metadata": {
    "ExecuteTime": {
     "end_time": "2020-05-01T22:31:56.871619Z",
     "start_time": "2020-05-01T22:31:56.716214Z"
    }
   },
   "outputs": [],
   "source": [
    "x0 = np.linspace(-200 * um, 200 * um, 512)\n",
    "z0 = np.linspace(-100 * um, 600 * um, 512 * 4)\n",
    "wavelength = 10 * um\n",
    "u0 = Scalar_source_X(x=x0, wavelength=wavelength)\n",
    "u0.plane_wave(A=1, theta=0 * degrees)\n",
    "u1 = Scalar_mask_XZ(x=x0, z=z0, wavelength=wavelength)\n",
    "u1.incident_field(u0)\n",
    "focal, _ = u1.lens(\n",
    "    r0=(0 * um, 0 * um),\n",
    "    size=300 * um,\n",
    "    radii=(1000 * um, -250 * um),\n",
    "    thickness=100 * um,\n",
    "    refractive_index=2,\n",
    "    angle=0 * degrees,\n",
    "    mask=(10 * um, 3 + 5j),\n",
    ")\n",
    "\n",
    "\n",
    "u1.surface_detection()"
   ]
  },
  {
   "cell_type": "code",
   "execution_count": null,
   "metadata": {
    "ExecuteTime": {
     "end_time": "2020-05-01T22:31:57.694123Z",
     "start_time": "2020-05-01T22:31:56.874047Z"
    }
   },
   "outputs": [],
   "source": [
    "print(focal)\n",
    "u1.draw_refractive_index(scale=\"scaled\")\n",
    "edge_matrix = u1.borders"
   ]
  },
  {
   "cell_type": "code",
   "execution_count": null,
   "metadata": {
    "ExecuteTime": {
     "end_time": "2020-05-01T22:31:58.558082Z",
     "start_time": "2020-05-01T22:31:57.696374Z"
    }
   },
   "outputs": [],
   "source": [
    "u1.BPM(verbose=False)\n",
    "u1.draw(logarithm=True, normalize=\"maximum\", draw_borders=True, scale=\"scaled\")"
   ]
  },
  {
   "cell_type": "markdown",
   "metadata": {},
   "source": [
    "### simulation of a video"
   ]
  },
  {
   "cell_type": "code",
   "execution_count": null,
   "metadata": {
    "ExecuteTime": {
     "end_time": "2020-05-01T22:33:42.622922Z",
     "start_time": "2020-05-01T22:33:42.618782Z"
    }
   },
   "outputs": [],
   "source": [
    "def __experiment_grating_movement__(dict_params):\n",
    "    delta_x = dict_params[\"delta_x\"]\n",
    "    period = dict_params[\"period\"]\n",
    "    t1 = dict_params[\"t1\"]\n",
    "    t2 = dict_params[\"t2\"]\n",
    "    t2.ronchi_grating(period=period, x0=delta_x, fill_factor=0.5)\n",
    "    u2 = t1 * t2\n",
    "    return u2"
   ]
  },
  {
   "cell_type": "code",
   "execution_count": null,
   "metadata": {
    "ExecuteTime": {
     "end_time": "2020-05-01T22:33:42.629378Z",
     "start_time": "2020-05-01T22:33:42.625246Z"
    }
   },
   "outputs": [],
   "source": [
    "def creation_dictionary(deltas_x, period, t1, t2):\n",
    "    # create Parameters: for multiprocessing\n",
    "    dict_Parameters = []\n",
    "    for i, delta_x in enumerate(deltas_x):\n",
    "        dict_Parameters.append(dict(delta_x=delta_x, period=period, t1=t1, t2=t2))\n",
    "    return dict_Parameters"
   ]
  },
  {
   "cell_type": "code",
   "execution_count": null,
   "metadata": {
    "ExecuteTime": {
     "end_time": "2020-05-01T22:33:43.017518Z",
     "start_time": "2020-05-01T22:33:42.631853Z"
    }
   },
   "outputs": [],
   "source": [
    "x0 = np.linspace(-400 * um, 400 * um, 1024 * 4)\n",
    "wavelength = 0.85 * um\n",
    "period = 50 * um\n",
    "z_talbot = 2 * period**2 / wavelength\n",
    "z0 = z_talbot / 2\n",
    "delay = 0.001\n",
    "\n",
    "t1 = Scalar_mask_X(x0, wavelength, info=\"__experiment_grating_movement__\")\n",
    "t1.ronchi_grating(period=period, x0=0 * um, fill_factor=0.5)\n",
    "t1.RS(z=z0, new_field=False)\n",
    "\n",
    "t2 = Scalar_mask_X(x0, wavelength, info=\"__experiment_grating_movement__\")\n",
    "t2.ronchi_grating(period=period, x0=0 * um, fill_factor=0.5)\n",
    "\n",
    "deltas_x = np.linspace(-60 * um, 60 * um, 128)  # 512\n",
    "\n",
    "dict_Parameters = creation_dictionary(deltas_x=deltas_x, period=period, t1=t1, t2=t2)\n",
    "\n",
    "u_s, time_proc = execute_multiprocessing(\n",
    "    __experiment_grating_movement__, dict_Parameters, num_processors=1, verbose=True\n",
    ")\n",
    "\n",
    "x = u_s[0].x"
   ]
  },
  {
   "cell_type": "code",
   "execution_count": null,
   "metadata": {
    "ExecuteTime": {
     "end_time": "2020-05-01T22:33:43.146700Z",
     "start_time": "2020-05-01T22:33:43.026090Z"
    }
   },
   "outputs": [],
   "source": [
    "%matplotlib qt5\n"
   ]
  },
  {
   "cell_type": "code",
   "execution_count": null,
   "metadata": {
    "ExecuteTime": {
     "end_time": "2020-05-01T22:33:52.051854Z",
     "start_time": "2020-05-01T22:33:43.481411Z"
    }
   },
   "outputs": [],
   "source": [
    "fig = plt.figure()\n",
    "ax1 = fig.add_subplot(211)\n",
    "ax2 = fig.add_subplot(212)\n",
    "\n",
    "perfil = np.zeros_like(deltas_x)\n",
    "\n",
    "(h1,) = ax1.plot(x, np.zeros_like(x), \"k\", lw=2)\n",
    "ax1.set_xlim(x[0], x[-1])\n",
    "ax1.set_ylim(0, 2)\n",
    "ax1.set_xlabel(r\"$x (\\mu m)$\")\n",
    "\n",
    "(h2,) = ax2.plot(deltas_x, perfil, \"k\", lw=2)\n",
    "ax2.set_xlim(deltas_x[0], deltas_x[-1])\n",
    "ax2.set_ylim(0, 0.5)\n",
    "ax2.set_xlabel(r\"$\\Delta x (\\mu m)$\")\n",
    "\n",
    "incr_frames = 1\n",
    "for i in range(0, len(deltas_x), incr_frames):\n",
    "    intensidad = abs(u_s[i].u) ** 2  # sacar fuera\n",
    "    perfil[i] = intensidad.mean()\n",
    "    plt.suptitle(r\"$\\delta x={:6.2f}\\,\\mu m$\".format(deltas_x[i]), fontsize=18)\n",
    "    h1.set_ydata(intensidad)\n",
    "    h2.set_ydata(perfil)\n",
    "    plt.draw()\n",
    "    plt.pause(0.005)"
   ]
  },
  {
   "cell_type": "markdown",
   "metadata": {},
   "source": [
    "<img src=\"qt_propagation.png\" width=\"400\">"
   ]
  },
  {
   "cell_type": "code",
   "execution_count": null,
   "metadata": {},
   "outputs": [],
   "source": [
    "%matplotlib inline\n"
   ]
  }
 ],
 "metadata": {
  "kernelspec": {
   "display_name": ".venv",
   "language": "python",
   "name": "python3"
  },
  "language_info": {
   "codemirror_mode": {
    "name": "ipython",
    "version": 3
   },
   "file_extension": ".py",
   "mimetype": "text/x-python",
   "name": "python",
   "nbconvert_exporter": "python",
   "pygments_lexer": "ipython3",
   "version": "3.12.3"
  }
 },
 "nbformat": 4,
 "nbformat_minor": 4
}
